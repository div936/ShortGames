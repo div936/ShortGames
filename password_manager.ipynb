{
  "nbformat": 4,
  "nbformat_minor": 0,
  "metadata": {
    "colab": {
      "name": "password_manager.ipynb",
      "provenance": [],
      "collapsed_sections": [],
      "authorship_tag": "ABX9TyNxAOgZfe0ftmVP7Mm8Pm/I",
      "include_colab_link": true
    },
    "kernelspec": {
      "name": "python3",
      "display_name": "Python 3"
    },
    "language_info": {
      "name": "python"
    }
  },
  "cells": [
    {
      "cell_type": "markdown",
      "metadata": {
        "id": "view-in-github",
        "colab_type": "text"
      },
      "source": [
        "<a href=\"https://colab.research.google.com/github/div936/ShortGames/blob/main/password_manager.ipynb\" target=\"_parent\"><img src=\"https://colab.research.google.com/assets/colab-badge.svg\" alt=\"Open In Colab\"/></a>"
      ]
    },
    {
      "cell_type": "code",
      "source": [
        "pip install cryptography"
      ],
      "metadata": {
        "id": "Fl5R1EvG8uy5"
      },
      "execution_count": null,
      "outputs": []
    },
    {
      "cell_type": "code",
      "source": [
        "from cryptography.fernet import Fernet"
      ],
      "metadata": {
        "id": "sjLiMrt59fSl"
      },
      "execution_count": null,
      "outputs": []
    },
    {
      "cell_type": "code",
      "source": [
        "def write_key():\n",
        "  key = Fernet.generate_key()\n",
        "  with open(\"key.key\", \"wb\") as key_file:\n",
        "    key_file.write(key)\n",
        "\n",
        "write_key()\n"
      ],
      "metadata": {
        "id": "n9pc0KNc-SAG"
      },
      "execution_count": null,
      "outputs": []
    },
    {
      "cell_type": "code",
      "source": [
        "def load_key():\n",
        "  file = open(\"key.key\", \"rb\")\n",
        "  key = file.read()\n",
        "  file.close\n",
        "  return key"
      ],
      "metadata": {
        "id": "SYhqn-eqBU_q"
      },
      "execution_count": null,
      "outputs": []
    },
    {
      "cell_type": "code",
      "execution_count": null,
      "metadata": {
        "colab": {
          "base_uri": "https://localhost:8080/"
        },
        "id": "U_re-i973okT",
        "outputId": "3683fe8d-f2f7-4031-baf8-b0fe82956fad"
      },
      "outputs": [
        {
          "name": "stdout",
          "output_type": "stream",
          "text": [
            "What is the master password? div\n",
            "Would you like to add a new password or view existing ones (view/add) or press q to quit? view\n",
            "User: Divyang , Password:  12345\n",
            "Would you like to add a new password or view existing ones (view/add) or press q to quit? add\n",
            "Account Name: Raghu\n",
            "Password: abcd\n",
            "Would you like to add a new password or view existing ones (view/add) or press q to quit? q\n"
          ]
        }
      ],
      "source": [
        "master_pwd = input(\"What is the master password? \")\n",
        "key = load_key() + master_pwd.encode()\n",
        "fer = Fernet(key)\n",
        "\n",
        "def view():\n",
        "  with open('password.txt', 'r') as f:\n",
        "    for line in f.readlines():\n",
        "      data = line.rstrip()\n",
        "      user, passw = data.split('|')\n",
        "      print(\"User:\", user, \", Password: \", fer.decrypt(passw.encode()).decode())\n",
        "\n",
        "def add():\n",
        "  name = input(\"Account Name: \")\n",
        "  pwd = input(\"Password: \")\n",
        "\n",
        "  with open('password.txt', 'a') as f:\n",
        "    f.write(name + \"|\" + fer.encrypt(pwd.encode()).decode() + \"\\n\")\n",
        "\n",
        "while True:\n",
        "  mode = input(\"Would you like to add a new password or view existing ones (view/add) or press q to quit? \").lower()\n",
        "  if mode == \"q\":\n",
        "    break\n",
        "\n",
        "  if mode == \"view\":\n",
        "    view()\n",
        "\n",
        "  elif mode == \"add\":\n",
        "    add()\n",
        "  \n",
        "  else:\n",
        "    print(\"Invalid mode.\")\n",
        "    continue"
      ]
    }
  ]
}